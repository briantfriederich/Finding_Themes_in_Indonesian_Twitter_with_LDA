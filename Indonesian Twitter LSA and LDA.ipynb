{
 "cells": [
  {
   "cell_type": "markdown",
   "metadata": {},
   "source": [
    "# Finding Themes in Indonesian Twitter with LSA and LDA\n",
    "### Brian Friederich\n",
    "### 1 August 2018 "
   ]
  },
  {
   "cell_type": "markdown",
   "metadata": {},
   "source": [
    "## I. Definition"
   ]
  },
  {
   "cell_type": "markdown",
   "metadata": {},
   "source": [
    "### Project Overview\n",
    "\n",
    "In this section, look to provide a high-level overview of the project in layman’s terms. Questions to ask yourself when writing this section:\n",
    "\n",
    "Has an overview of the project been provided, such as the problem domain, project origin, and related datasets or input data?\n",
    "Has enough background information been given so that an uninformed reader would understand the problem domain and following problem statement?"
   ]
  },
  {
   "cell_type": "markdown",
   "metadata": {},
   "source": [
    "### Problem Statement\n",
    "\n",
    "In this section, you will want to clearly define the problem that you are trying to solve, including the strategy (outline of tasks) you will use to achieve the desired solution. You should also thoroughly discuss what the intended solution will be for this problem. Questions to ask yourself when writing this section:\n",
    "\n",
    "Is the problem statement clearly defined? Will the reader understand what you are expecting to solve?\n",
    "Have you thoroughly discussed how you will attempt to solve the problem?\n",
    "Is an anticipated solution clearly defined? Will the reader understand what results you are looking for?"
   ]
  },
  {
   "cell_type": "markdown",
   "metadata": {},
   "source": [
    "### Metrics\n",
    "\n",
    "In this section, you will need to clearly define the metrics or calculations you will use to measure performance of a model or result in your project. These calculations and metrics should be justified based on the characteristics of the problem and problem domain. Questions to ask yourself when writing this section:\n",
    "\n",
    "Are the metrics you’ve chosen to measure the performance of your models clearly discussed and defined?\n",
    "Have you provided reasonable justification for the metrics chosen based on the problem and solution?"
   ]
  },
  {
   "cell_type": "markdown",
   "metadata": {},
   "source": [
    "## II. Analysis"
   ]
  },
  {
   "cell_type": "markdown",
   "metadata": {},
   "source": [
    "### Data Exploration\n",
    "\n",
    "In this section, you will be expected to analyze the data you are using for the problem. This data can either be in the form of a dataset (or datasets), input data (or input files), or even an environment. The type of data should be thoroughly described and, if possible, have basic statistics and information presented (such as discussion of input features or defining characteristics about the input or environment). Any abnormalities or interesting qualities about the data that may need to be addressed have been identified (such as features that need to be transformed or the possibility of outliers). Questions to ask yourself when writing this section:\n",
    "\n",
    "If a dataset is present for this problem, have you thoroughly discussed certain features about the dataset? Has a data sample been provided to the reader?\n",
    "If a dataset is present for this problem, are statistics about the dataset calculated and reported? Have any relevant results from this calculation been discussed?\n",
    "If a dataset is not present for this problem, has discussion been made about the input space or input data for your problem?\n",
    "Are there any abnormalities or characteristics about the input space or dataset that need to be addressed? (categorical variables, missing values, outliers, etc.)"
   ]
  },
  {
   "cell_type": "code",
   "execution_count": 52,
   "metadata": {},
   "outputs": [
    {
     "name": "stdout",
     "output_type": "stream",
     "text": [
      "                                           isi_tweet  sentimen\n",
      "0  tidak setuju jokowi jadi cawapres capres jokow...         1\n",
      "1  capres jokowi wacapres abraham samad gubernur ...         1\n",
      "2  capres prabowo dan cawapres jokowi dan gubdki ...         1\n",
      "3  jadi skenarionya gini 2014 biar prabowo jadi p...         1\n",
      "4  sby mantan tni dan calon presiden prabowo subi...         1\n",
      "\n",
      "1846 tweets in dataset\n"
     ]
    }
   ],
   "source": [
    "# Load and visualize dataset\n",
    "import pandas as pd\n",
    "data = pd.read_csv('tweets.csv')\n",
    "print(data.head())\n",
    "\n",
    "#Find dataset size\n",
    "print(\"\\n{} tweets in dataset\".format(len(tweets)))"
   ]
  },
  {
   "cell_type": "code",
   "execution_count": 53,
   "metadata": {},
   "outputs": [
    {
     "name": "stdout",
     "output_type": "stream",
     "text": [
      "                                           isi_tweet  index\n",
      "0  tidak setuju jokowi jadi cawapres capres jokow...      0\n",
      "1  capres jokowi wacapres abraham samad gubernur ...      1\n",
      "2  capres prabowo dan cawapres jokowi dan gubdki ...      2\n",
      "3  jadi skenarionya gini 2014 biar prabowo jadi p...      3\n",
      "4  sby mantan tni dan calon presiden prabowo subi...      4\n"
     ]
    }
   ],
   "source": [
    "#Add indexing for future gensim use\n",
    "data_text = data[['isi_tweet']]\n",
    "data_text['index'] = data_text.index\n",
    "tweets = data_text\n",
    "print(tweets.head())"
   ]
  },
  {
   "cell_type": "markdown",
   "metadata": {},
   "source": [
    "### Exploratory Visualization\n",
    "\n",
    "In this section, you will need to provide some form of visualization that summarizes or extracts a relevant characteristic or feature about the data. The visualization should adequately support the data being used. Discuss why this visualization was chosen and how it is relevant. Questions to ask yourself when writing this section:\n",
    "\n",
    "Have you visualized a relevant characteristic or feature about the dataset or input data?\n",
    "Is the visualization thoroughly analyzed and discussed?\n",
    "If a plot is provided, are the axes, title, and datum clearly defined?"
   ]
  },
  {
   "cell_type": "markdown",
   "metadata": {},
   "source": [
    "### Algorithms and Techniques\n",
    "\n",
    "In this section, you will need to discuss the algorithms and techniques you intend to use for solving the problem. You should justify the use of each one based on the characteristics of the problem and the problem domain. Questions to ask yourself when writing this section:\n",
    "\n",
    "Are the algorithms you will use, including any default variables/parameters in the project clearly defined?\n",
    "Are the techniques to be used thoroughly discussed and justified?\n",
    "Is it made clear how the input data or datasets will be handled by the algorithms and techniques chosen?"
   ]
  },
  {
   "cell_type": "code",
   "execution_count": 55,
   "metadata": {},
   "outputs": [
    {
     "name": "stdout",
     "output_type": "stream",
     "text": [
      "[nltk_data] Downloading package punkt to\n",
      "[nltk_data]     /Users/brianfrieerich/nltk_data...\n",
      "[nltk_data]   Package punkt is already up-to-date!\n"
     ]
    }
   ],
   "source": [
    "#import packages used\n",
    "import csv\n",
    "import re\n",
    "import gensim\n",
    "from gensim import corpora, models\n",
    "import nltk\n",
    "nltk.download('punkt')\n",
    "from nltk.tokenize import word_tokenize\n",
    "import numpy as np\n",
    "import Sastrawi\n",
    "from Sastrawi.Stemmer.StemmerFactory import StemmerFactory\n",
    "\n",
    "# set random seed for reproducable results\n",
    "np.random.seed(45)"
   ]
  },
  {
   "cell_type": "markdown",
   "metadata": {},
   "source": [
    "### Benchmark\n",
    "\n",
    "In this section, you will need to provide a clearly defined benchmark result or threshold for comparing across performances obtained by your solution. The reasoning behind the benchmark (in the case where it is not an established result) should be discussed. Questions to ask yourself when writing this section:\n",
    "\n",
    "Has some result or value been provided that acts as a benchmark for measuring performance?\n",
    "Is it clear how this result or value was obtained (whether by data or by hypothesis)?"
   ]
  },
  {
   "cell_type": "markdown",
   "metadata": {},
   "source": [
    "## III. Methodology"
   ]
  },
  {
   "cell_type": "markdown",
   "metadata": {},
   "source": [
    "### Data Preprocessing\n",
    "\n",
    "In this section, all of your preprocessing steps will need to be clearly documented, if any were necessary. From the previous section, any of the abnormalities or characteristics that you identified about the dataset will be addressed and corrected here. Questions to ask yourself when writing this section:\n",
    "\n",
    "If the algorithms chosen require preprocessing steps like feature selection or feature transformations, have they been properly documented?\n",
    "Based on the Data Exploration section, if there were abnormalities or characteristics that needed to be addressed, have they been properly corrected?\n",
    "If no preprocessing is needed, has it been made clear why?"
   ]
  },
  {
   "cell_type": "code",
   "execution_count": 56,
   "metadata": {},
   "outputs": [
    {
     "name": "stdout",
     "output_type": "stream",
     "text": [
      "-----\n",
      "Original: Mereka meniru-nirukannya\n",
      "\n",
      "Stemmed: mereka tiru\n",
      "-----\n",
      "Original: Saya pembantu\n",
      "\n",
      "Stemmed: saya bantu\n",
      "-----\n",
      "Original: Dia dipanggil oleh wanita tercantik\n",
      "\n",
      "Stemmed: dia panggil oleh wanita cantik\n"
     ]
    }
   ],
   "source": [
    "# Create Indonesian stemming function and test on conjugated sentences\n",
    "factory = StemmerFactory()\n",
    "indoStemmer = factory.create_stemmer()\n",
    "\n",
    "def indoStem(text):\n",
    "    stemmed = indoStemmer.stem(text)\n",
    "    return stemmed\n",
    "\n",
    "sentences = [\"Mereka meniru-nirukannya\", \"Saya pembantu\", \"Dia dipanggil oleh wanita tercantik\"]\n",
    "\n",
    "for sentence in sentences:\n",
    "    print(\"-----\\nOriginal: {}\".format(sentence))\n",
    "    output = indoStem(sentence)\n",
    "    print(\"\\nStemmed: {}\".format(output))"
   ]
  },
  {
   "cell_type": "code",
   "execution_count": 57,
   "metadata": {},
   "outputs": [],
   "source": [
    "# Read Indonesian stopword CSV into Python and turn it into a list\n",
    "stopwords_list = []\n",
    "with open('stopwords.csv', 'r') as f:\n",
    "    reader = csv.reader(f)\n",
    "    stopwords_list = list(reader) \n",
    "    flat_stoplist = [item for sublist in stopwords_list for item in sublist]\n",
    "\n",
    "# Create function to preprocess each tweet by removing non-alphabetical characters, stemming words,\n",
    "## and removing stopwords\n",
    "def preprocess(text):\n",
    "    result=[]\n",
    "    text = re.sub(\"[^a-zA-Z]+\", \" \", text)\n",
    "    stemmed = indoStem(text)\n",
    "    for word in stemmed.split(' '):\n",
    "        if word not in flat_stoplist:\n",
    "            result.append(word)\n",
    "    return result"
   ]
  },
  {
   "cell_type": "code",
   "execution_count": 34,
   "metadata": {},
   "outputs": [
    {
     "data": {
      "text/plain": [
       "[['tuju', 'jokowi', 'cawapres', 'capres', 'jokowi', 'harga', 'mati'],\n",
       " ['capres',\n",
       "  'jokowi',\n",
       "  'wacapres',\n",
       "  'abraham',\n",
       "  'samad',\n",
       "  'gubernur',\n",
       "  'ahok',\n",
       "  'koruptor',\n",
       "  'abissss'],\n",
       " ['capres',\n",
       "  'prabowo',\n",
       "  'cawapres',\n",
       "  'jokowi',\n",
       "  'gubdki',\n",
       "  'ahok',\n",
       "  'mantap',\n",
       "  'presiden',\n",
       "  'sby',\n",
       "  'bubar',\n",
       "  'fpi'],\n",
       " ['skenario',\n",
       "  'gin',\n",
       "  'biar',\n",
       "  'prabowo',\n",
       "  'presiden',\n",
       "  'jokowi',\n",
       "  'tetepgubernur',\n",
       "  'jakarta',\n",
       "  'hasil',\n",
       "  'nunggu',\n",
       "  'gantiin',\n",
       "  'prabowo'],\n",
       " ['sby',\n",
       "  'mantan',\n",
       "  'tni',\n",
       "  'calon',\n",
       "  'presiden',\n",
       "  'prabowo',\n",
       "  'subianto',\n",
       "  'mantan',\n",
       "  'kopassus',\n",
       "  'anggoto',\n",
       "  'tni',\n",
       "  'disiplin',\n",
       "  'smw',\n",
       "  'presiden']]"
      ]
     },
     "execution_count": 34,
     "metadata": {},
     "output_type": "execute_result"
    }
   ],
   "source": [
    "# Map preprocessing to isi_tweet column and print first 5 instances to check\n",
    "processed_tweets = list(map(preprocess, tweets['isi_tweet']))\n",
    "processed_tweets[:5]"
   ]
  },
  {
   "cell_type": "code",
   "execution_count": 35,
   "metadata": {},
   "outputs": [],
   "source": [
    "dictionary = gensim.corpora.Dictionary(processed_tweets)"
   ]
  },
  {
   "cell_type": "code",
   "execution_count": 36,
   "metadata": {},
   "outputs": [],
   "source": [
    "dictionary.filter_extremes(no_below = 15, no_above = 0.1)"
   ]
  },
  {
   "cell_type": "code",
   "execution_count": 37,
   "metadata": {},
   "outputs": [
    {
     "data": {
      "text/plain": [
       "[(2, 1), (3, 1), (20, 2), (22, 1)]"
      ]
     },
     "execution_count": 37,
     "metadata": {},
     "output_type": "execute_result"
    }
   ],
   "source": [
    "bow_corpus = [dictionary.doc2bow(twt) for twt in processed_tweets]\n",
    "bow_corpus[15]"
   ]
  },
  {
   "cell_type": "code",
   "execution_count": 38,
   "metadata": {},
   "outputs": [
    {
     "name": "stdout",
     "output_type": "stream",
     "text": [
      "Word 2 (\"ahok\") appears 1 time.\n",
      "Word 3 (\"gubernur\") appears 1 time.\n",
      "Word 20 (\"ya\") appears 2 time.\n",
      "Word 22 (\"indonesia\") appears 1 time.\n"
     ]
    }
   ],
   "source": [
    "bow_tweet_14 = bow_corpus[15]\n",
    "for i in range(len(bow_tweet_14)):\n",
    "    print(\"Word {} (\\\"{}\\\") appears {} time.\".format(bow_tweet_14[i][0], \n",
    "                                                     dictionary[bow_tweet_14[i][0]], \n",
    "                                                     bow_tweet_14[i][1]))"
   ]
  },
  {
   "cell_type": "code",
   "execution_count": 39,
   "metadata": {},
   "outputs": [
    {
     "name": "stdout",
     "output_type": "stream",
     "text": [
      "[(0, 0.5104769343386324), (1, 0.8598914463513587)]\n"
     ]
    }
   ],
   "source": [
    "tfidf = models.TfidfModel(bow_corpus)\n",
    "corpus_tfidf = tfidf[bow_corpus]\n",
    "from pprint import pprint\n",
    "for doc in corpus_tfidf:\n",
    "    pprint(doc)\n",
    "    break"
   ]
  },
  {
   "cell_type": "markdown",
   "metadata": {},
   "source": [
    "### Implementation\n",
    "\n",
    "In this section, the process for which metrics, algorithms, and techniques that you implemented for the given data will need to be clearly documented. It should be abundantly clear how the implementation was carried out, and discussion should be made regarding any complications that occurred during this process. Questions to ask yourself when writing this section:\n",
    "\n",
    "Is it made clear how the algorithms and techniques were implemented with the given datasets or input data?\n",
    "Were there any complications with the original metrics or techniques that required changing prior to acquiring a solution?\n",
    "Was there any part of the coding process (e.g., writing complicated functions) that should be documented?"
   ]
  },
  {
   "cell_type": "markdown",
   "metadata": {},
   "source": [
    "### Refinement\n",
    "\n",
    "In this section, you will need to discuss the process of improvement you made upon the algorithms and techniques you used in your implementation. For example, adjusting parameters for certain models to acquire improved solutions would fall under the refinement category. Your initial and final solutions should be reported, as well as any significant intermediate results as necessary. Questions to ask yourself when writing this section:\n",
    "\n",
    "Has an initial solution been found and clearly reported?\n",
    "Is the process of improvement clearly documented, such as what techniques were used?\n",
    "Are intermediate and final solutions clearly reported as the process is improved?"
   ]
  },
  {
   "cell_type": "markdown",
   "metadata": {},
   "source": [
    "## IV. Results"
   ]
  },
  {
   "cell_type": "markdown",
   "metadata": {},
   "source": [
    "### Model Evaluation and Validation\n",
    "\n",
    "In this section, the final model and any supporting qualities should be evaluated in detail. It should be clear how the final model was derived and why this model was chosen. In addition, some type of analysis should be used to validate the robustness of this model and its solution, such as manipulating the input data or environment to see how the model’s solution is affected (this is called sensitivity analysis). Questions to ask yourself when writing this section:\n",
    "\n",
    "Is the final model reasonable and aligning with solution expectations? Are the final parameters of the model appropriate?\n",
    "Has the final model been tested with various inputs to evaluate whether the model generalizes well to unseen data?\n",
    "Is the model robust enough for the problem? Do small perturbations (changes) in training data or the input space greatly affect the results?\n",
    "Can results found from the model be trusted?"
   ]
  },
  {
   "cell_type": "code",
   "execution_count": 40,
   "metadata": {},
   "outputs": [],
   "source": [
    "num_topics = 3"
   ]
  },
  {
   "cell_type": "code",
   "execution_count": 41,
   "metadata": {},
   "outputs": [
    {
     "name": "stdout",
     "output_type": "stream",
     "text": [
      "Topic: 0 \n",
      "Words: 0.381*\"jk\" + 0.374*\"hatta\" + 0.259*\"gubernur\" + 0.225*\"nyata\" + 0.217*\"tokoh\" + 0.212*\"cawapres\" + 0.203*\"sosok\" + 0.200*\"populer\" + 0.200*\"bincang\" + 0.197*\"ketua\"\n",
      "\n",
      "\n",
      "Topic: 1 \n",
      "Words: -0.420*\"hatta\" + 0.319*\"gubernur\" + 0.297*\"nyata\" + 0.286*\"sosok\" + 0.283*\"populer\" + 0.282*\"bincang\" + 0.282*\"tokoh\" + -0.214*\"buka\" + -0.211*\"pan\" + -0.207*\"ketua\"\n",
      "\n",
      "\n",
      "Topic: 2 \n",
      "Words: -0.644*\"jk\" + 0.227*\"hatta\" + -0.215*\"dahlan\" + -0.205*\"arb\" + 0.188*\"sosok\" + 0.187*\"gubernur\" + 0.186*\"populer\" + 0.185*\"bincang\" + 0.169*\"tokoh\" + 0.168*\"nyata\"\n",
      "\n",
      "\n"
     ]
    }
   ],
   "source": [
    "lsa_model = gensim.models.LsiModel(corpus_tfidf, \n",
    "                                   num_topics = num_topics, \n",
    "                                   id2word=dictionary)\n",
    "for idx, topic in lsa_model.print_topics(-1):\n",
    "    print(\"Topic: {} \\nWords: {}\".format(idx, topic))\n",
    "    print(\"\\n\")"
   ]
  },
  {
   "cell_type": "code",
   "execution_count": 42,
   "metadata": {},
   "outputs": [
    {
     "name": "stdout",
     "output_type": "stream",
     "text": [
      "Topic: 0 \n",
      "Words: 0.078*\"dahlan\" + 0.061*\"arb\" + 0.046*\"pilih\" + 0.038*\"iskan\" + 0.035*\"rakyat\" + 0.030*\"wiranto\" + 0.028*\"dukung\" + 0.027*\"jk\" + 0.024*\"ya\" + 0.020*\"konvensi\"\n",
      "\n",
      "\n",
      "Topic: 1 \n",
      "Words: 0.071*\"jk\" + 0.045*\"gubernur\" + 0.044*\"calon\" + 0.031*\"tokoh\" + 0.031*\"nyata\" + 0.030*\"mahfud\" + 0.028*\"indonesia\" + 0.027*\"pdip\" + 0.026*\"sosok\" + 0.025*\"populer\"\n",
      "\n",
      "\n",
      "Topic: 2 \n",
      "Words: 0.112*\"hatta\" + 0.052*\"ketua\" + 0.051*\"cawapres\" + 0.044*\"pan\" + 0.044*\"buka\" + 0.039*\"evaluasi\" + 0.039*\"pencapresan\" + 0.038*\"radjasa\" + 0.026*\"survey\" + 0.020*\"tweet\"\n",
      "\n",
      "\n"
     ]
    }
   ],
   "source": [
    "lda_model = gensim.models.LdaMulticore(bow_corpus, \n",
    "                                       num_topics = num_topics, \n",
    "                                       id2word = dictionary, \n",
    "                                       passes = 2, \n",
    "                                       workers = 4)\n",
    "for idx, topic in lda_model.print_topics(-1):\n",
    "    print(\"Topic: {} \\nWords: {}\".format(idx, topic))\n",
    "    print(\"\\n\")"
   ]
  },
  {
   "cell_type": "code",
   "execution_count": 43,
   "metadata": {},
   "outputs": [
    {
     "name": "stdout",
     "output_type": "stream",
     "text": [
      "Topic: 0 \n",
      "Words: 0.068*\"jk\" + 0.041*\"dukung\" + 0.038*\"wiranto\" + 0.032*\"mahfud\" + 0.032*\"pdip\" + 0.026*\"mega\" + 0.022*\"md\" + 0.022*\"kalah\" + 0.020*\"ical\" + 0.020*\"menang\"\n",
      "\n",
      "\n",
      "Topic: 1 \n",
      "Words: 0.046*\"hatta\" + 0.038*\"calon\" + 0.037*\"indonesia\" + 0.033*\"pilih\" + 0.026*\"wapres\" + 0.026*\"jakarta\" + 0.025*\"ketua\" + 0.023*\"ya\" + 0.022*\"buka\" + 0.021*\"tweet\"\n",
      "\n",
      "\n",
      "Topic: 2 \n",
      "Words: 0.051*\"dahlan\" + 0.043*\"arb\" + 0.033*\"rakyat\" + 0.030*\"nyata\" + 0.029*\"iskan\" + 0.028*\"gubernur\" + 0.026*\"sby\" + 0.026*\"sosok\" + 0.025*\"tokoh\" + 0.025*\"maju\"\n",
      "\n",
      "\n"
     ]
    }
   ],
   "source": [
    "lda_model_tfidf = gensim.models.LdaMulticore(corpus_tfidf, \n",
    "                                             num_topics = num_topics, \n",
    "                                             id2word = dictionary, \n",
    "                                             passes = 2, \n",
    "                                             workers=4)\n",
    "                                             \n",
    "for idx, topic in lda_model_tfidf.print_topics(-1):\n",
    "    print(\"Topic: {} \\nWords: {}\".format(idx, topic))\n",
    "    print(\"\\n\")"
   ]
  },
  {
   "cell_type": "code",
   "execution_count": 44,
   "metadata": {},
   "outputs": [
    {
     "name": "stdout",
     "output_type": "stream",
     "text": [
      "prabowo subianto vs joko widodo no prabowo subianto presiden jokowi wapres yes aminin yaaaaa allah\n",
      "['prabowo', 'subianto', 'vs', 'joko', 'widodo', 'no', 'prabowo', 'subianto', 'presiden', 'jokowi', 'wapres', 'yes', 'aminin', 'yaaaaa', 'allah']\n"
     ]
    }
   ],
   "source": [
    "document_num = 13\n",
    "print(data.iloc[document_num, 0])\n",
    "\n",
    "print(processed_tweets[document_num])"
   ]
  },
  {
   "cell_type": "code",
   "execution_count": 45,
   "metadata": {},
   "outputs": [
    {
     "name": "stdout",
     "output_type": "stream",
     "text": [
      "\n",
      "Score: 0.037299727710397364\t \n",
      "Topic: 0.381*\"jk\" + 0.374*\"hatta\" + 0.259*\"gubernur\" + 0.225*\"nyata\" + 0.217*\"tokoh\" + 0.212*\"cawapres\" + 0.203*\"sosok\" + 0.200*\"populer\" + 0.200*\"bincang\" + 0.197*\"ketua\"\n",
      "\n",
      "Score: -0.0010628898567282214\t \n",
      "Topic: -0.420*\"hatta\" + 0.319*\"gubernur\" + 0.297*\"nyata\" + 0.286*\"sosok\" + 0.283*\"populer\" + 0.282*\"bincang\" + 0.282*\"tokoh\" + -0.214*\"buka\" + -0.211*\"pan\" + -0.207*\"ketua\"\n",
      "\n",
      "Score: -0.03145815454014468\t \n",
      "Topic: -0.644*\"jk\" + 0.227*\"hatta\" + -0.215*\"dahlan\" + -0.205*\"arb\" + 0.188*\"sosok\" + 0.187*\"gubernur\" + 0.186*\"populer\" + 0.185*\"bincang\" + 0.169*\"tokoh\" + 0.168*\"nyata\"\n"
     ]
    }
   ],
   "source": [
    "for index, score in sorted(lsa_model[corpus_tfidf[document_num]], key=lambda tup: -1*tup[1]):\n",
    "    print(\"\\nScore: {}\\t \\nTopic: {}\".format(score, lsa_model.print_topic(index, 10)))"
   ]
  },
  {
   "cell_type": "code",
   "execution_count": 46,
   "metadata": {},
   "outputs": [
    {
     "name": "stdout",
     "output_type": "stream",
     "text": [
      "\n",
      "Score: 0.8833066821098328\t \n",
      "Topic: 0.112*\"hatta\" + 0.052*\"ketua\" + 0.051*\"cawapres\" + 0.044*\"pan\" + 0.044*\"buka\" + 0.039*\"evaluasi\" + 0.039*\"pencapresan\" + 0.038*\"radjasa\" + 0.026*\"survey\" + 0.020*\"tweet\"\n",
      "\n",
      "Score: 0.06438399851322174\t \n",
      "Topic: 0.071*\"jk\" + 0.045*\"gubernur\" + 0.044*\"calon\" + 0.031*\"tokoh\" + 0.031*\"nyata\" + 0.030*\"mahfud\" + 0.028*\"indonesia\" + 0.027*\"pdip\" + 0.026*\"sosok\" + 0.025*\"populer\"\n",
      "\n",
      "Score: 0.052309323102235794\t \n",
      "Topic: 0.078*\"dahlan\" + 0.061*\"arb\" + 0.046*\"pilih\" + 0.038*\"iskan\" + 0.035*\"rakyat\" + 0.030*\"wiranto\" + 0.028*\"dukung\" + 0.027*\"jk\" + 0.024*\"ya\" + 0.020*\"konvensi\"\n"
     ]
    }
   ],
   "source": [
    "for index, score in sorted(lda_model[bow_corpus[document_num]], key=lambda tup: -1*tup[1]):\n",
    "    print(\"\\nScore: {}\\t \\nTopic: {}\".format(score, lda_model.print_topic(index, 10)))"
   ]
  },
  {
   "cell_type": "code",
   "execution_count": 47,
   "metadata": {},
   "outputs": [
    {
     "name": "stdout",
     "output_type": "stream",
     "text": [
      "\n",
      "Score: 0.4878930151462555\t \n",
      "Topic: 0.046*\"hatta\" + 0.038*\"calon\" + 0.037*\"indonesia\" + 0.033*\"pilih\" + 0.026*\"wapres\" + 0.026*\"jakarta\" + 0.025*\"ketua\" + 0.023*\"ya\" + 0.022*\"buka\" + 0.021*\"tweet\"\n",
      "\n",
      "Score: 0.4027964174747467\t \n",
      "Topic: 0.051*\"dahlan\" + 0.043*\"arb\" + 0.033*\"rakyat\" + 0.030*\"nyata\" + 0.029*\"iskan\" + 0.028*\"gubernur\" + 0.026*\"sby\" + 0.026*\"sosok\" + 0.025*\"tokoh\" + 0.025*\"maju\"\n",
      "\n",
      "Score: 0.10931061953306198\t \n",
      "Topic: 0.068*\"jk\" + 0.041*\"dukung\" + 0.038*\"wiranto\" + 0.032*\"mahfud\" + 0.032*\"pdip\" + 0.026*\"mega\" + 0.022*\"md\" + 0.022*\"kalah\" + 0.020*\"ical\" + 0.020*\"menang\"\n"
     ]
    }
   ],
   "source": [
    "for index, score in sorted(lda_model_tfidf[corpus_tfidf[document_num]], key=lambda tup: -1*tup[1]):\n",
    "    print(\"\\nScore: {}\\t \\nTopic: {}\".format(score, lda_model_tfidf.print_topic(index, 10)))"
   ]
  },
  {
   "cell_type": "code",
   "execution_count": 50,
   "metadata": {},
   "outputs": [
    {
     "name": "stdout",
     "output_type": "stream",
     "text": [
      "----------------------------------------\n",
      "LSA Model:\n",
      "\n",
      "Score: 0.49057098758876205\t \n",
      "Topic: 0.381*\"jk\" + 0.374*\"hatta\" + 0.259*\"gubernur\" + 0.225*\"nyata\" + 0.217*\"tokoh\" + 0.212*\"cawapres\" + 0.203*\"sosok\" + 0.200*\"populer\" + 0.200*\"bincang\" + 0.197*\"ketua\"\n",
      "\n",
      "Score: 0.10195250765494418\t \n",
      "Topic: -0.420*\"hatta\" + 0.319*\"gubernur\" + 0.297*\"nyata\" + 0.286*\"sosok\" + 0.283*\"populer\" + 0.282*\"bincang\" + 0.282*\"tokoh\" + -0.214*\"buka\" + -0.211*\"pan\" + -0.207*\"ketua\"\n",
      "\n",
      "Score: -0.7617690669928293\t \n",
      "Topic: -0.644*\"jk\" + 0.227*\"hatta\" + -0.215*\"dahlan\" + -0.205*\"arb\" + 0.188*\"sosok\" + 0.187*\"gubernur\" + 0.186*\"populer\" + 0.185*\"bincang\" + 0.169*\"tokoh\" + 0.168*\"nyata\"\n",
      "----------------------------------------\n",
      "LDA with BOW Model:\n",
      "\n",
      "Score: 0.8555165529251099\t \n",
      "Topic: 0.071*\"jk\" + 0.045*\"gubernur\" + 0.044*\"calon\" + 0.031*\"tokoh\" + 0.031*\"nyata\" + 0.030*\"mahfud\" + 0.028*\"indonesia\" + 0.027*\"pdip\" + 0.026*\"sosok\" + 0.025*\"populer\"\n",
      "\n",
      "Score: 0.0761055201292038\t \n",
      "Topic: 0.078*\"dahlan\" + 0.061*\"arb\" + 0.046*\"pilih\" + 0.038*\"iskan\" + 0.035*\"rakyat\" + 0.030*\"wiranto\" + 0.028*\"dukung\" + 0.027*\"jk\" + 0.024*\"ya\" + 0.020*\"konvensi\"\n",
      "\n",
      "Score: 0.06837794929742813\t \n",
      "Topic: 0.112*\"hatta\" + 0.052*\"ketua\" + 0.051*\"cawapres\" + 0.044*\"pan\" + 0.044*\"buka\" + 0.039*\"evaluasi\" + 0.039*\"pencapresan\" + 0.038*\"radjasa\" + 0.026*\"survey\" + 0.020*\"tweet\"\n",
      "----------------------------------------\n",
      "LDA with Tf-idf Model:\n",
      "\n",
      "Score: 0.8642910122871399\t \n",
      "Topic: 0.068*\"jk\" + 0.041*\"dukung\" + 0.038*\"wiranto\" + 0.032*\"mahfud\" + 0.032*\"pdip\" + 0.026*\"mega\" + 0.022*\"md\" + 0.022*\"kalah\" + 0.020*\"ical\" + 0.020*\"menang\"\n",
      "\n",
      "Score: 0.06799998879432678\t \n",
      "Topic: 0.051*\"dahlan\" + 0.043*\"arb\" + 0.033*\"rakyat\" + 0.030*\"nyata\" + 0.029*\"iskan\" + 0.028*\"gubernur\" + 0.026*\"sby\" + 0.026*\"sosok\" + 0.025*\"tokoh\" + 0.025*\"maju\"\n",
      "\n",
      "Score: 0.0677090436220169\t \n",
      "Topic: 0.046*\"hatta\" + 0.038*\"calon\" + 0.037*\"indonesia\" + 0.033*\"pilih\" + 0.026*\"wapres\" + 0.026*\"jakarta\" + 0.025*\"ketua\" + 0.023*\"ya\" + 0.022*\"buka\" + 0.021*\"tweet\"\n"
     ]
    }
   ],
   "source": [
    "fake_tweet = \"Saya mendukung JK dan Kalla! PDI-P selamanya!\"\n",
    "bow_vector = dictionary.doc2bow(preprocess(fake_tweet))\n",
    "\n",
    "print(\"----------------------------------------\\nLSA Model:\")\n",
    "for index, score in sorted(lsa_model[bow_vector], key=lambda tup: -1*tup[1]):\n",
    "    print(\"\\nScore: {}\\t \\nTopic: {}\".format(score, lsa_model.print_topic(index, 10)))\n",
    "\n",
    "print(\"----------------------------------------\\nLDA with BOW Model:\")\n",
    "for index, score in sorted(lda_model[bow_vector], key=lambda tup: -1*tup[1]):\n",
    "    print(\"\\nScore: {}\\t \\nTopic: {}\".format(score, lda_model.print_topic(index, 10)))\n",
    "\n",
    "print(\"----------------------------------------\\nLDA with Tf-idf Model:\")\n",
    "for index, score in sorted(lda_model_tfidf[bow_vector], key=lambda tup: -1*tup[1]):\n",
    "    print(\"\\nScore: {}\\t \\nTopic: {}\".format(score, lda_model_tfidf.print_topic(index, 10)))"
   ]
  },
  {
   "cell_type": "markdown",
   "metadata": {},
   "source": [
    "### Justification\n",
    "\n",
    "In this section, your model’s final solution and its results should be compared to the benchmark you established earlier in the project using some type of statistical analysis. You should also justify whether these results and the solution are significant enough to have solved the problem posed in the project. Questions to ask yourself when writing this section:\n",
    "\n",
    "Are the final results found stronger than the benchmark result reported earlier?\n",
    "Have you thoroughly analyzed and discussed the final solution?\n",
    "Is the final solution significant enough to have solved the problem?"
   ]
  },
  {
   "cell_type": "markdown",
   "metadata": {},
   "source": [
    "## V. Conclusion"
   ]
  },
  {
   "cell_type": "markdown",
   "metadata": {},
   "source": [
    "### Free-Form Visualization\n",
    "\n",
    "In this section, you will need to provide some form of visualization that emphasizes an important quality about the project. It is much more free-form, but should reasonably support a significant result or characteristic about the problem that you want to discuss. Questions to ask yourself when writing this section:\n",
    "\n",
    "Have you visualized a relevant or important quality about the problem, dataset, input data, or results?\n",
    "Is the visualization thoroughly analyzed and discussed?\n",
    "If a plot is provided, are the axes, title, and datum clearly defined?"
   ]
  },
  {
   "cell_type": "markdown",
   "metadata": {},
   "source": [
    "### Improvement\n",
    "\n",
    "In this section, you will need to provide discussion as to how one aspect of the implementation you designed could be improved. As an example, consider ways your implementation can be made more general, and what would need to be modified. You do not need to make this improvement, but the potential solutions resulting from these changes are considered and compared/contrasted to your current solution. Questions to ask yourself when writing this section:\n",
    "\n",
    "Are there further improvements that could be made on the algorithms or techniques you used in this project?\n",
    "Were there algorithms or techniques you researched that you did not know how to implement, but would consider using if you knew how?\n",
    "If you used your final solution as the new benchmark, do you think an even better solution exists?"
   ]
  },
  {
   "cell_type": "code",
   "execution_count": null,
   "metadata": {},
   "outputs": [],
   "source": []
  }
 ],
 "metadata": {
  "kernelspec": {
   "display_name": "Python 3",
   "language": "python",
   "name": "python3"
  },
  "language_info": {
   "codemirror_mode": {
    "name": "ipython",
    "version": 3
   },
   "file_extension": ".py",
   "mimetype": "text/x-python",
   "name": "python",
   "nbconvert_exporter": "python",
   "pygments_lexer": "ipython3",
   "version": "3.6.5"
  }
 },
 "nbformat": 4,
 "nbformat_minor": 2
}
